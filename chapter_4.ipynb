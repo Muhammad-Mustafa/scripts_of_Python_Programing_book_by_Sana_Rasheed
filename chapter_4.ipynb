{
 "cells": [
  {
   "cell_type": "code",
   "execution_count": 31,
   "metadata": {},
   "outputs": [
    {
     "name": "stdout",
     "output_type": "stream",
     "text": [
      "<class 'str'>\n",
      "<class 'int'>\n",
      "<class 'float'>\n",
      "<class 'complex'>\n",
      "<class 'list'>\n",
      "<class 'tuple'>\n",
      "<class 'dict'>\n",
      "<class 'set'>\n",
      "<class 'frozenset'>\n"
     ]
    }
   ],
   "source": [
    "# data types in python\n",
    "\n",
    "a =  \"Hello\"\n",
    "b = 323\n",
    "c = 32.33\n",
    "d = 34j\n",
    "e = [1,2,3,4]\n",
    "f = ('apple', 'banana', 'cherry')\n",
    "thisdict = {\n",
    "  'brand': 'Ford',\n",
    "  'model': \"Mustang\",\n",
    "  'year': 1964\n",
    "}\n",
    "thisset = {'apple', 'banana', 'cherry'}\n",
    "cities = frozenset(['karachi', 'lahore', 'Islamabad'])\n",
    "\n",
    "\n",
    "print(type(a))\n",
    "print(type(b))\n",
    "print(type(c))\n",
    "print(type(d))\n",
    "print(type(e))\n",
    "print(type(f))\n",
    "print(type(thisdict))\n",
    "print(type(thisset))\n",
    "print(type(cities))\n"
   ]
  },
  {
   "cell_type": "code",
   "execution_count": 6,
   "metadata": {},
   "outputs": [
    {
     "name": "stdout",
     "output_type": "stream",
     "text": [
      "2\n",
      "4\n",
      "[1, 2, 3]\n",
      "[1, 2, 3, 4]\n",
      "[1, 2, 3]\n"
     ]
    }
   ],
   "source": [
    "print(e[1])\n",
    "print(e[-1])\n",
    "print(e[:3])\n",
    "print(e[:])\n",
    "print(e[:-1])"
   ]
  },
  {
   "cell_type": "code",
   "execution_count": 13,
   "metadata": {},
   "outputs": [
    {
     "name": "stdout",
     "output_type": "stream",
     "text": [
      "{'brand': 'Ford', 'model': 'Mustang', 'year': 1964}\n",
      "Ford\n"
     ]
    }
   ],
   "source": [
    "print(thisdict)\n",
    "print(thisdict['brand'])"
   ]
  },
  {
   "cell_type": "code",
   "execution_count": 30,
   "metadata": {},
   "outputs": [
    {
     "name": "stdout",
     "output_type": "stream",
     "text": [
      "{'apple', 'cherry', 'banana'}\n",
      "{'orange', 'apple', 'cherry', 'banana'}\n",
      "{'cherry', 'banana', 'orange', 'apple', 'mango', 'graps'}\n",
      "{'cherry', 'orange', 'apple', 'mango', 'graps'}\n"
     ]
    }
   ],
   "source": [
    "print(thisset)\n",
    "\n",
    "#to add single item in the set use add() and required multiple values use update()\n",
    "thisset.add('orange')\n",
    "print(thisset)\n",
    "\n",
    "thisset.update({'mango', 'graps'})\n",
    "print(thisset)\n",
    "\n",
    "thisset.remove('banana')\n",
    "print(thisset)"
   ]
  },
  {
   "cell_type": "code",
   "execution_count": 27,
   "metadata": {},
   "outputs": [
    {
     "name": "stdout",
     "output_type": "stream",
     "text": [
      "<class 'str'> 5\n",
      "<class 'list'> 4\n",
      "<class 'tuple'> 3\n",
      "<class 'dict'> 3\n",
      "<class 'set'> 6\n"
     ]
    }
   ],
   "source": [
    "print(type(a), len(a))\n",
    "#printtype(b), (len(b))\n",
    "#printtype(c), (len(c))\n",
    "#printtype(d), (len(d))\n",
    "print(type(e), len(e))\n",
    "print(type(f), len(f))\n",
    "print(type(thisdict), len(thisdict))\n",
    "print(type(thisset), len(thisset))"
   ]
  },
  {
   "cell_type": "code",
   "execution_count": null,
   "metadata": {},
   "outputs": [],
   "source": []
  }
 ],
 "metadata": {
  "kernelspec": {
   "display_name": "Python 3",
   "language": "python",
   "name": "python3"
  },
  "language_info": {
   "codemirror_mode": {
    "name": "ipython",
    "version": 3
   },
   "file_extension": ".py",
   "mimetype": "text/x-python",
   "name": "python",
   "nbconvert_exporter": "python",
   "pygments_lexer": "ipython3",
   "version": "3.10.9"
  },
  "orig_nbformat": 4,
  "vscode": {
   "interpreter": {
    "hash": "c7a279df56688506272803efb37954aa1b99335a35b16dee08a4fb625759cd2b"
   }
  }
 },
 "nbformat": 4,
 "nbformat_minor": 2
}
